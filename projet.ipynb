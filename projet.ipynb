{
  "cells": [
    {
      "cell_type": "markdown",
      "metadata": {
        "id": "view-in-github",
        "colab_type": "text"
      },
      "source": [
        "<a href=\"https://colab.research.google.com/github/cc-ca/projet-impression-3d/blob/main/projet.ipynb\" target=\"_parent\"><img src=\"https://colab.research.google.com/assets/colab-badge.svg\" alt=\"Open In Colab\"/></a>"
      ]
    },
    {
      "cell_type": "code",
      "execution_count": 25,
      "metadata": {
        "id": "MSf7XxKa0br6"
      },
      "outputs": [],
      "source": [
        "import os\n",
        "import cv2\n",
        "import numpy as np\n",
        "from tensorflow import keras\n",
        "from tensorflow.keras import layers\n",
        "import random\n",
        "import time"
      ]
    },
    {
      "cell_type": "code",
      "source": [
        "from google.colab import drive\n",
        "drive.mount('/content/gdrive')\n"
      ],
      "metadata": {
        "colab": {
          "base_uri": "https://localhost:8080/"
        },
        "id": "J8PgWpkZ0hje",
        "outputId": "21f6bc12-6a68-4edc-b7da-0d9c95c3c616"
      },
      "execution_count": 26,
      "outputs": [
        {
          "output_type": "stream",
          "name": "stdout",
          "text": [
            "Drive already mounted at /content/gdrive; to attempt to forcibly remount, call drive.mount(\"/content/gdrive\", force_remount=True).\n"
          ]
        }
      ]
    },
    {
      "cell_type": "code",
      "source": [
        "%cd \"/content/gdrive/MyDrive/projet impression 3d\"\n",
        "!pwd"
      ],
      "metadata": {
        "colab": {
          "base_uri": "https://localhost:8080/"
        },
        "id": "Hck8NFBk0lo5",
        "outputId": "acd45cf0-f93f-4561-e168-67198450f4f5"
      },
      "execution_count": 27,
      "outputs": [
        {
          "output_type": "stream",
          "name": "stdout",
          "text": [
            "/content/gdrive/MyDrive/projet impression 3d\n",
            "/content/gdrive/MyDrive/projet impression 3d\n"
          ]
        }
      ]
    },
    {
      "cell_type": "markdown",
      "metadata": {
        "id": "1jmHdofl0br7"
      },
      "source": [
        "https://drive.google.com/drive/folders/1_MU7jTR0kTt8MFQYrUzWiWc6uM-BHG_9?usp=drive_link"
      ]
    },
    {
      "cell_type": "markdown",
      "metadata": {
        "id": "DL17LhEz0bsA"
      },
      "source": [
        "#multi classes-----------------------------"
      ]
    },
    {
      "cell_type": "code",
      "execution_count": 28,
      "metadata": {
        "id": "qgxK7qWf0bsA"
      },
      "outputs": [],
      "source": [
        "def load_and_preprocess_image(image_path):\n",
        "    img = cv2.imread(image_path)\n",
        "    img = cv2.resize(img, (255, 255))  # Assurez-vous que la taille correspond à celle utilisée lors de l'entraînement\n",
        "    img = img / 255.0  # Normalisez les valeurs des pixels\n",
        "    img = np.expand_dims(img, axis=0)  # Ajoutez une dimension pour représenter le lot (batch)\n",
        "\n",
        "    return img\n",
        "\n",
        "def predict_defect(model, image_path):\n",
        "    preprocessed_img = load_and_preprocess_image(image_path)\n",
        "    prediction = model.predict(preprocessed_img)\n",
        "\n",
        "    # Interprétez la prédiction (1 signifie \"OK\", 0 signifie \"défaut\")\n",
        "    if prediction[0, 0] > 0.5:\n",
        "        return \"OK\"\n",
        "    else:\n",
        "        return \"Défaut\"\n"
      ]
    },
    {
      "cell_type": "code",
      "execution_count": 29,
      "metadata": {
        "id": "Nt8tYAqd0bsB"
      },
      "outputs": [],
      "source": [
        "def load_data_multi_class(dataset_path):\n",
        "    data = []\n",
        "    labels = []\n",
        "\n",
        "    for folder in os.listdir(dataset_path):\n",
        "        folder_path = os.path.join(dataset_path, folder)\n",
        "        if os.path.isdir(folder_path):\n",
        "\n",
        "            label = folder.lower()  # Utilisez le nom du dossier comme label\n",
        "            print(label)\n",
        "            for filename in os.listdir(folder_path):\n",
        "                img_path = os.path.join(folder_path, filename)\n",
        "                img = cv2.imread(img_path)\n",
        "                img = cv2.resize(img, (255, 255))\n",
        "                data.append(img)\n",
        "                labels.append(label)\n",
        "\n",
        "    data = np.array(data) / 255.0\n",
        "    labels = np.array(labels)\n",
        "\n",
        "    return data, labels"
      ]
    },
    {
      "cell_type": "code",
      "source": [
        "!pwd"
      ],
      "metadata": {
        "colab": {
          "base_uri": "https://localhost:8080/"
        },
        "id": "ScP1_c3B1J3l",
        "outputId": "0817e940-ea30-4630-a2c9-aacab869ee40"
      },
      "execution_count": 30,
      "outputs": [
        {
          "output_type": "stream",
          "name": "stdout",
          "text": [
            "/content/gdrive/MyDrive/projet impression 3d\n"
          ]
        }
      ]
    },
    {
      "cell_type": "code",
      "execution_count": 31,
      "metadata": {
        "colab": {
          "base_uri": "https://localhost:8080/"
        },
        "id": "YjUhQ90V0bsB",
        "outputId": "555570d0-1414-4b0a-9599-3137e0cfe385"
      },
      "outputs": [
        {
          "output_type": "stream",
          "name": "stdout",
          "text": [
            "blobs\n",
            "ok\n",
            "spaghetti\n",
            "under exstrosion\n"
          ]
        }
      ],
      "source": [
        "dataset_path = 'dataset'\n",
        "data, labels = load_data_multi_class(dataset_path)"
      ]
    },
    {
      "cell_type": "code",
      "execution_count": 32,
      "metadata": {
        "id": "bEGWRTP90bsB"
      },
      "outputs": [],
      "source": [
        "# Définir un dictionnaire de mapping catégorie -> numéro\n",
        "categorie_mapping = {\n",
        "    \"blobs\": 0,\n",
        "    \"ok\": 1,\n",
        "    \"spaghetti\": 2,\n",
        "    \"under exstrosion\": 3\n",
        "}\n",
        "\n",
        "# Utiliser NumPy pour convertir les catégories en numéros\n",
        "labels = np.array([categorie_mapping[c] for c in labels])"
      ]
    },
    {
      "cell_type": "code",
      "execution_count": 33,
      "metadata": {
        "colab": {
          "base_uri": "https://localhost:8080/"
        },
        "id": "41A-tlL_0bsB",
        "outputId": "f18d2123-5d5a-4dc5-e800-94299715222f"
      },
      "outputs": [
        {
          "output_type": "stream",
          "name": "stdout",
          "text": [
            "177\n",
            "3\n"
          ]
        }
      ],
      "source": [
        "print (len(labels))\n",
        "print(labels[-1])"
      ]
    },
    {
      "cell_type": "code",
      "execution_count": 34,
      "metadata": {
        "colab": {
          "base_uri": "https://localhost:8080/"
        },
        "id": "if_Fsgv60bsB",
        "outputId": "6bc2c9be-ee98-492f-fbcd-1abc16670876"
      },
      "outputs": [
        {
          "output_type": "stream",
          "name": "stdout",
          "text": [
            "177\n",
            "0\n"
          ]
        }
      ],
      "source": [
        "combined_data = list(zip(data,labels))\n",
        "\n",
        "# Mélangez la liste combinée\n",
        "random.shuffle(combined_data)\n",
        "\n",
        "# Divisez à nouveau la liste combinée en deux listes distinctes\n",
        "data,labels = zip(*combined_data)\n",
        "\n",
        "labels = np.array(labels)\n",
        "data = np.array(data)\n",
        "print (len(labels))\n",
        "print(labels[-1])"
      ]
    },
    {
      "cell_type": "code",
      "execution_count": 35,
      "metadata": {
        "id": "skhKJDk60bsC"
      },
      "outputs": [],
      "source": [
        "model = keras.Sequential([\n",
        "    layers.Conv2D(32, (3, 3), activation='relu', input_shape=(255, 255, 3)),\n",
        "    layers.MaxPooling2D((2, 2)),\n",
        "    layers.Conv2D(64, (3, 3), activation='relu'),\n",
        "    layers.MaxPooling2D((2, 2)),\n",
        "    layers.Flatten(),\n",
        "    layers.Dropout(0.5),  # Ajout de la couche Dropout\n",
        "    layers.Dense(512, activation='relu'),\n",
        "    layers.Dropout(0.5),  # Ajout de la couche Dropout\n",
        "    layers.Dense(255, activation='relu'),\n",
        "    layers.Dropout(0.5),  # Ajout de la couche Dropout\n",
        "    layers.Dense(128, activation='relu'),\n",
        "    layers.Dropout(0.5),  # Ajout d'une autre couche Dropout\n",
        "    layers.Dense(64, activation='relu'),\n",
        "    layers.Dropout(0.5),  # Ajout d'une autre couche Dropout\n",
        "    layers.Dense(32, activation='relu'),\n",
        "    layers.Dropout(0.5),  # Ajout d'une autre couche Dropout\n",
        "    layers.Dense(4, activation='softmax')  # Ajustez cela en fonction de votre nombre de classes\n",
        "])\n",
        "\n"
      ]
    },
    {
      "cell_type": "code",
      "execution_count": 36,
      "metadata": {
        "id": "1_ESvBC80bsC"
      },
      "outputs": [],
      "source": [
        "from keras.callbacks import ModelCheckpoint\n",
        "\n",
        "# Définissez le callback de sauvegarde du modèle\n",
        "checkpoint = ModelCheckpoint('meilleur_modele.h5', monitor='val_accuracy', save_best_only=True)\n",
        "\n",
        "# Compilez le modèle\n",
        "model.compile(optimizer='adam', loss='sparse_categorical_crossentropy', metrics=['accuracy'])"
      ]
    },
    {
      "cell_type": "code",
      "execution_count": 44,
      "metadata": {
        "colab": {
          "base_uri": "https://localhost:8080/"
        },
        "id": "TV7C8paa0bsC",
        "outputId": "43ad8ce9-5ee9-4151-a6f5-8df9146d2b69"
      },
      "outputs": [
        {
          "output_type": "stream",
          "name": "stdout",
          "text": [
            "Epoch 1/10\n",
            "15/15 [==============================] - 20s 1s/step - loss: 0.9867 - accuracy: 0.4610 - val_loss: 0.9145 - val_accuracy: 0.6389\n",
            "Epoch 2/10\n",
            "15/15 [==============================] - 1s 52ms/step - loss: 0.9670 - accuracy: 0.4610 - val_loss: 0.8696 - val_accuracy: 0.6389\n",
            "Epoch 3/10\n",
            "15/15 [==============================] - 1s 49ms/step - loss: 0.9447 - accuracy: 0.5461 - val_loss: 0.8827 - val_accuracy: 0.6389\n",
            "Epoch 4/10\n",
            "15/15 [==============================] - 1s 49ms/step - loss: 0.9114 - accuracy: 0.5603 - val_loss: 0.9343 - val_accuracy: 0.6389\n",
            "Epoch 5/10\n",
            "15/15 [==============================] - 1s 45ms/step - loss: 0.8549 - accuracy: 0.5816 - val_loss: 0.8799 - val_accuracy: 0.6389\n",
            "Epoch 6/10\n",
            "15/15 [==============================] - 1s 47ms/step - loss: 0.7829 - accuracy: 0.6312 - val_loss: 0.9009 - val_accuracy: 0.6389\n",
            "Epoch 7/10\n",
            "15/15 [==============================] - 8s 546ms/step - loss: 0.7379 - accuracy: 0.6383 - val_loss: 0.9628 - val_accuracy: 0.6944\n",
            "Epoch 8/10\n",
            "15/15 [==============================] - 1s 50ms/step - loss: 0.7734 - accuracy: 0.6950 - val_loss: 0.9316 - val_accuracy: 0.6111\n",
            "Epoch 9/10\n",
            "15/15 [==============================] - 1s 50ms/step - loss: 0.8309 - accuracy: 0.6525 - val_loss: 0.9607 - val_accuracy: 0.6111\n",
            "Epoch 10/10\n",
            "15/15 [==============================] - 1s 50ms/step - loss: 0.7949 - accuracy: 0.6667 - val_loss: 1.1609 - val_accuracy: 0.6389\n"
          ]
        },
        {
          "output_type": "execute_result",
          "data": {
            "text/plain": [
              "<keras.src.callbacks.History at 0x79365803b250>"
            ]
          },
          "metadata": {},
          "execution_count": 44
        }
      ],
      "source": [
        "# Entraînez le modèle avec des batches de taille 10 par epoch et sauvegardez le meilleur modèle\n",
        "model.fit(data, labels, epochs=10, validation_split=0.20, batch_size=10, callbacks=[checkpoint])\n"
      ]
    },
    {
      "cell_type": "code",
      "execution_count": 47,
      "metadata": {
        "id": "c8f3Fkxn0bsC"
      },
      "outputs": [],
      "source": [
        "def predict_defect_multi_class(model, image_path):\n",
        "    preprocessed_img = load_and_preprocess_image(image_path)\n",
        "    predictions = model.predict(preprocessed_img)\n",
        "    print (model.predict(preprocessed_img))\n",
        "\n",
        "    # Interprétez les prédictions\n",
        "    class_labels = ['blobs', 'OK', 'spaghetti','under exstrosion']\n",
        "    predicted_class = class_labels[np.argmax(predictions)]\n",
        "\n",
        "    return predicted_class"
      ]
    },
    {
      "cell_type": "code",
      "execution_count": 51,
      "metadata": {
        "colab": {
          "base_uri": "https://localhost:8080/"
        },
        "id": "m9HCbofJ0bsC",
        "outputId": "35bbba99-d8d6-4e4b-ab5f-4634050934a0"
      },
      "outputs": [
        {
          "output_type": "stream",
          "name": "stdout",
          "text": [
            "1/1 [==============================] - 0s 31ms/step\n",
            "1/1 [==============================] - 0s 28ms/step\n",
            "[[0.04092408 0.8419949  0.07013928 0.04694179]]\n",
            "1/1 [==============================] - 0s 28ms/step\n",
            "1/1 [==============================] - 0s 30ms/step\n",
            "[[2.6658777e-08 9.9999797e-01 1.1258160e-06 9.0291974e-07]]\n",
            "1/1 [==============================] - 0s 29ms/step\n",
            "1/1 [==============================] - 0s 26ms/step\n",
            "[[2.5385295e-06 9.9993885e-01 3.2546894e-05 2.6142414e-05]]\n",
            "1/1 [==============================] - 0s 26ms/step\n",
            "1/1 [==============================] - 0s 26ms/step\n",
            "[[0.00219448 0.9876252  0.00573768 0.00444271]]\n",
            "1/1 [==============================] - 0s 29ms/step\n",
            "1/1 [==============================] - 0s 37ms/step\n",
            "[[1.3026742e-04 9.9862087e-01 7.0512830e-04 5.4378557e-04]]\n",
            "1/1 [==============================] - 0s 27ms/step\n",
            "1/1 [==============================] - 0s 27ms/step\n",
            "[[1.8389619e-07 9.9999094e-01 4.6520768e-06 4.2135525e-06]]\n",
            "1/1 [==============================] - 0s 35ms/step\n",
            "1/1 [==============================] - 0s 26ms/step\n",
            "[[2.5969724e-10 1.0000000e+00 1.5736946e-08 1.5734395e-08]]\n",
            "1/1 [==============================] - 0s 34ms/step\n",
            "1/1 [==============================] - 0s 27ms/step\n",
            "[[1.6251786e-04 9.9795866e-01 1.0949534e-03 7.8392058e-04]]\n",
            "1/1 [==============================] - 0s 30ms/step\n",
            "1/1 [==============================] - 0s 27ms/step\n",
            "[[1.31947618e-05 9.99803007e-01 1.02910715e-04 8.09146295e-05]]\n",
            "1/1 [==============================] - 0s 29ms/step\n",
            "1/1 [==============================] - 0s 33ms/step\n",
            "[[8.2050650e-07 9.9997878e-01 1.0909341e-05 9.4256930e-06]]\n",
            "1/1 [==============================] - 0s 34ms/step\n",
            "1/1 [==============================] - 0s 26ms/step\n",
            "[[0.00377551 0.97718734 0.01203737 0.00699975]]\n",
            "1/1 [==============================] - 0s 35ms/step\n",
            "1/1 [==============================] - 0s 33ms/step\n",
            "[[8.6425149e-07 9.9998081e-01 9.5219875e-06 8.7769540e-06]]\n",
            "1/1 [==============================] - 0s 36ms/step\n",
            "1/1 [==============================] - 0s 27ms/step\n",
            "[[1.4266831e-07 9.9999571e-01 2.1223921e-06 2.0287789e-06]]\n",
            "1/1 [==============================] - 0s 26ms/step\n",
            "1/1 [==============================] - 0s 32ms/step\n",
            "[[9.2072826e-04 9.9344069e-01 3.1867365e-03 2.4518685e-03]]\n",
            "1/1 [==============================] - 0s 28ms/step\n",
            "1/1 [==============================] - 0s 29ms/step\n",
            "[[1.05591964e-04 9.98949945e-01 5.18248358e-04 4.26200480e-04]]\n",
            "1/1 [==============================] - 0s 30ms/step\n",
            "1/1 [==============================] - 0s 28ms/step\n",
            "[[6.0933369e-11 1.0000000e+00 3.9730232e-09 4.4887694e-09]]\n",
            "1/1 [==============================] - 0s 18ms/step\n",
            "1/1 [==============================] - 0s 21ms/step\n",
            "[[0.00111229 0.9912947  0.00438544 0.00320764]]\n"
          ]
        }
      ],
      "source": [
        "resultf=\"\"\n",
        "nb_total=0\n",
        "nb_positif=0\n",
        "for filename in os.listdir(\"testok\"):\n",
        "    #print(filename)\n",
        "    nb_total+=1\n",
        "\n",
        "    result = predict_defect_multi_class(model, \"testok/\" + filename)\n",
        "    if result=='OK':\n",
        "        nb_positif+=1\n",
        "\n",
        "    resultf= resultf + \"prédiction pour\"+ filename + \" : \"+ str(result) +\"\\n\"\n"
      ]
    },
    {
      "cell_type": "code",
      "execution_count": 52,
      "metadata": {
        "colab": {
          "base_uri": "https://localhost:8080/"
        },
        "id": "wU5b3yHp0bsC",
        "outputId": "a4b372dd-479b-493a-83aa-642eff471dcc"
      },
      "outputs": [
        {
          "output_type": "stream",
          "name": "stdout",
          "text": [
            "prédiction pourok.jpg : OK\n",
            "prédiction pourspaghetti.jpg : OK\n",
            "prédiction pourok3.jpg : OK\n",
            "prédiction pourok4.jpg : OK\n",
            "prédiction pourok5.png : OK\n",
            "prédiction pourWIN_20231010_15_02_24_Pro.jpg : OK\n",
            "prédiction pourWIN_20231010_15_02_40_Pro.jpg : OK\n",
            "prédiction pourWIN_20231010_15_03_00_Pro.jpg : OK\n",
            "prédiction pourWIN_20231010_15_03_09_Pro.jpg : OK\n",
            "prédiction pourWIN_20231010_15_03_11_Pro.jpg : OK\n",
            "prédiction pourWIN_20231010_15_03_18_Pro.jpg : OK\n",
            "prédiction pourWIN_20231010_15_03_24_Pro.jpg : OK\n",
            "prédiction pourWIN_20231010_15_03_29_Pro.jpg : OK\n",
            "prédiction pourWIN_20231010_15_03_56_Pro.jpg : OK\n",
            "prédiction pourWIN_20231010_15_03_58_Pro.jpg : OK\n",
            "prédiction pourWIN_20231010_15_04_02_Pro.jpg : OK\n",
            "prédiction pourWIN_20231010_15_04_05_Pro.jpg : OK\n",
            "\n",
            "100.0 % de précision\n"
          ]
        }
      ],
      "source": [
        "print (resultf)\n",
        "print(str((nb_positif*100)/nb_total) + \" % de précision\")"
      ]
    },
    {
      "cell_type": "code",
      "execution_count": null,
      "metadata": {
        "id": "5V-W0zuq0bsC"
      },
      "outputs": [],
      "source": [
        "def capture():\n",
        "  # Ouvrir la webcam (la webcam par défaut a l'ID 0)\n",
        "  cap = cv2.VideoCapture(0)\n",
        "\n",
        "  # Vérifier si la webcam est ouverte correctement\n",
        "  if not cap.isOpened():\n",
        "      print(\"Erreur: Impossible d'ouvrir la webcam.\")\n",
        "      exit()\n",
        "\n",
        "  # Capturer une image\n",
        "  time.sleep(1)\n",
        "  ret, frame = cap.read()\n",
        "\n",
        "  # Sauvegarder l'image capturée\n",
        "  if ret:\n",
        "      cv2.imwrite(\"photo_capturee.jpg\", frame)\n",
        "      print(\"Photo capturée avec succès.\")\n",
        "  else:\n",
        "      print(\"Erreur lors de la capture de la photo.\")\n",
        "\n",
        "  # Libérer la webcam\n",
        "  cap.release()\n",
        "  time.sleep(1)\n",
        "\n",
        "\n",
        "  result = predict_defect_multi_class(model, 'photo_capturee.jpg')\n",
        "  print(f\"Prédiction pour la capture camera: {result}\")"
      ]
    }
  ],
  "metadata": {
    "kernelspec": {
      "display_name": "Python 3",
      "name": "python3"
    },
    "language_info": {
      "codemirror_mode": {
        "name": "ipython",
        "version": 3
      },
      "file_extension": ".py",
      "mimetype": "text/x-python",
      "name": "python",
      "nbconvert_exporter": "python",
      "pygments_lexer": "ipython3",
      "version": "3.10.13"
    },
    "colab": {
      "provenance": [],
      "collapsed_sections": [
        "gTMvMPSV2NFl"
      ],
      "gpuType": "T4",
      "include_colab_link": true
    },
    "accelerator": "GPU"
  },
  "nbformat": 4,
  "nbformat_minor": 0
}