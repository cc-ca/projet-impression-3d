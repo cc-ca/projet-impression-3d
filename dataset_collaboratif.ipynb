{
 "cells": [
  {
   "cell_type": "code",
   "execution_count": 2,
   "metadata": {},
   "outputs": [],
   "source": [
    "import os\n",
    "import cv2\n",
    "import numpy as np\n",
    "from tensorflow import keras\n",
    "from tensorflow.keras import layers\n",
    "import random\n",
    "import time"
   ]
  },
  {
   "cell_type": "code",
   "execution_count": 3,
   "metadata": {},
   "outputs": [],
   "source": [
    "def load_and_preprocess_image(image_path):\n",
    "    img = cv2.imread(image_path)\n",
    "    img = cv2.resize(img, (128, 128))  # Assurez-vous que la taille correspond à celle utilisée lors de l'entraînement\n",
    "    img = img / 255.0  # Normalisez les valeurs des pixels\n",
    "    img = np.expand_dims(img, axis=0)  # Ajoutez une dimension pour représenter le lot (batch)\n",
    "\n",
    "    return img\n",
    "\n",
    "def predict_defect(model, image_path):\n",
    "    preprocessed_img = load_and_preprocess_image(image_path)\n",
    "    prediction = model.predict(preprocessed_img)\n",
    "\n",
    "    # Interprétez la prédiction (1 signifie \"OK\", 0 signifie \"défaut\")\n",
    "    if prediction[0, 0] > 0.5:\n",
    "        return \"OK\"\n",
    "    else:\n",
    "        return \"Défaut\""
   ]
  },
  {
   "cell_type": "code",
   "execution_count": 4,
   "metadata": {},
   "outputs": [],
   "source": [
    "def load_data_multi_class(dataset_path):\n",
    "    data = []\n",
    "    labels = []\n",
    "\n",
    "    for folder in os.listdir(dataset_path):\n",
    "        folder_path = os.path.join(dataset_path, folder)\n",
    "        if os.path.isdir(folder_path):\n",
    "            \n",
    "            label = folder.lower()  # Utilisez le nom du dossier comme label\n",
    "            print(label)\n",
    "            for filename in os.listdir(folder_path):\n",
    "                img_path = os.path.join(folder_path, filename)\n",
    "                img = cv2.imread(img_path)\n",
    "                img = cv2.resize(img, (128, 128))\n",
    "                data.append(img)\n",
    "                labels.append(label)\n",
    "\n",
    "    data = np.array(data) / 255.0\n",
    "    labels = np.array(labels)\n",
    "\n",
    "    return data, labels"
   ]
  },
  {
   "cell_type": "code",
   "execution_count": 7,
   "metadata": {},
   "outputs": [
    {
     "name": "stdout",
     "output_type": "stream",
     "text": [
      "bed_not_stick\n"
     ]
    },
    {
     "ename": "error",
     "evalue": "OpenCV(4.8.1) D:\\a\\opencv-python\\opencv-python\\opencv\\modules\\imgproc\\src\\resize.cpp:4062: error: (-215:Assertion failed) !ssize.empty() in function 'cv::resize'\n",
     "output_type": "error",
     "traceback": [
      "\u001b[1;31m---------------------------------------------------------------------------\u001b[0m",
      "\u001b[1;31merror\u001b[0m                                     Traceback (most recent call last)",
      "\u001b[1;32mc:\\Users\\totol\\Mon Drive\\projet impression 3d\\dataset_collaboratif.ipynb Cellule 4\u001b[0m line \u001b[0;36m2\n\u001b[0;32m      <a href='vscode-notebook-cell:/c%3A/Users/totol/Mon%20Drive/projet%20impression%203d/dataset_collaboratif.ipynb#W3sZmlsZQ%3D%3D?line=0'>1</a>\u001b[0m dataset_path \u001b[39m=\u001b[39m \u001b[39m'\u001b[39m\u001b[39mdataset_collab\u001b[39m\u001b[39m'\u001b[39m\n\u001b[1;32m----> <a href='vscode-notebook-cell:/c%3A/Users/totol/Mon%20Drive/projet%20impression%203d/dataset_collaboratif.ipynb#W3sZmlsZQ%3D%3D?line=1'>2</a>\u001b[0m data, labels \u001b[39m=\u001b[39m load_data_multi_class(dataset_path)\n",
      "\u001b[1;32mc:\\Users\\totol\\Mon Drive\\projet impression 3d\\dataset_collaboratif.ipynb Cellule 4\u001b[0m line \u001b[0;36m1\n\u001b[0;32m     <a href='vscode-notebook-cell:/c%3A/Users/totol/Mon%20Drive/projet%20impression%203d/dataset_collaboratif.ipynb#W3sZmlsZQ%3D%3D?line=11'>12</a>\u001b[0m img_path \u001b[39m=\u001b[39m os\u001b[39m.\u001b[39mpath\u001b[39m.\u001b[39mjoin(folder_path, filename)\n\u001b[0;32m     <a href='vscode-notebook-cell:/c%3A/Users/totol/Mon%20Drive/projet%20impression%203d/dataset_collaboratif.ipynb#W3sZmlsZQ%3D%3D?line=12'>13</a>\u001b[0m img \u001b[39m=\u001b[39m cv2\u001b[39m.\u001b[39mimread(img_path)\n\u001b[1;32m---> <a href='vscode-notebook-cell:/c%3A/Users/totol/Mon%20Drive/projet%20impression%203d/dataset_collaboratif.ipynb#W3sZmlsZQ%3D%3D?line=13'>14</a>\u001b[0m img \u001b[39m=\u001b[39m cv2\u001b[39m.\u001b[39;49mresize(img, (\u001b[39m128\u001b[39;49m, \u001b[39m128\u001b[39;49m))\n\u001b[0;32m     <a href='vscode-notebook-cell:/c%3A/Users/totol/Mon%20Drive/projet%20impression%203d/dataset_collaboratif.ipynb#W3sZmlsZQ%3D%3D?line=14'>15</a>\u001b[0m data\u001b[39m.\u001b[39mappend(img)\n\u001b[0;32m     <a href='vscode-notebook-cell:/c%3A/Users/totol/Mon%20Drive/projet%20impression%203d/dataset_collaboratif.ipynb#W3sZmlsZQ%3D%3D?line=15'>16</a>\u001b[0m labels\u001b[39m.\u001b[39mappend(label)\n",
      "\u001b[1;31merror\u001b[0m: OpenCV(4.8.1) D:\\a\\opencv-python\\opencv-python\\opencv\\modules\\imgproc\\src\\resize.cpp:4062: error: (-215:Assertion failed) !ssize.empty() in function 'cv::resize'\n"
     ]
    }
   ],
   "source": [
    "dataset_path = 'dataset_collab'\n",
    "data, labels = load_data_multi_class(dataset_path)"
   ]
  },
  {
   "cell_type": "code",
   "execution_count": 6,
   "metadata": {},
   "outputs": [
    {
     "ename": "KeyError",
     "evalue": "'blobs'",
     "output_type": "error",
     "traceback": [
      "\u001b[1;31m---------------------------------------------------------------------------\u001b[0m",
      "\u001b[1;31mKeyError\u001b[0m                                  Traceback (most recent call last)",
      "\u001b[1;32mc:\\Users\\totol\\Mon Drive\\projet impression 3d\\dataset_collaboratif.ipynb Cellule 5\u001b[0m line \u001b[0;36m9\n\u001b[0;32m      <a href='vscode-notebook-cell:/c%3A/Users/totol/Mon%20Drive/projet%20impression%203d/dataset_collaboratif.ipynb#W4sZmlsZQ%3D%3D?line=1'>2</a>\u001b[0m categorie_mapping \u001b[39m=\u001b[39m {\n\u001b[0;32m      <a href='vscode-notebook-cell:/c%3A/Users/totol/Mon%20Drive/projet%20impression%203d/dataset_collaboratif.ipynb#W4sZmlsZQ%3D%3D?line=2'>3</a>\u001b[0m     \u001b[39m\"\u001b[39m\u001b[39mbed_not_stick\u001b[39m\u001b[39m\"\u001b[39m:\u001b[39m0\u001b[39m,\n\u001b[0;32m      <a href='vscode-notebook-cell:/c%3A/Users/totol/Mon%20Drive/projet%20impression%203d/dataset_collaboratif.ipynb#W4sZmlsZQ%3D%3D?line=3'>4</a>\u001b[0m     \u001b[39m\"\u001b[39m\u001b[39mok\u001b[39m\u001b[39m\"\u001b[39m: \u001b[39m1\u001b[39m,\n\u001b[0;32m      <a href='vscode-notebook-cell:/c%3A/Users/totol/Mon%20Drive/projet%20impression%203d/dataset_collaboratif.ipynb#W4sZmlsZQ%3D%3D?line=4'>5</a>\u001b[0m     \u001b[39m\"\u001b[39m\u001b[39mspaghetti\u001b[39m\u001b[39m\"\u001b[39m: \u001b[39m2\u001b[39m,\n\u001b[0;32m      <a href='vscode-notebook-cell:/c%3A/Users/totol/Mon%20Drive/projet%20impression%203d/dataset_collaboratif.ipynb#W4sZmlsZQ%3D%3D?line=5'>6</a>\u001b[0m }\n\u001b[0;32m      <a href='vscode-notebook-cell:/c%3A/Users/totol/Mon%20Drive/projet%20impression%203d/dataset_collaboratif.ipynb#W4sZmlsZQ%3D%3D?line=7'>8</a>\u001b[0m \u001b[39m# Utiliser NumPy pour convertir les catégories en numéros\u001b[39;00m\n\u001b[1;32m----> <a href='vscode-notebook-cell:/c%3A/Users/totol/Mon%20Drive/projet%20impression%203d/dataset_collaboratif.ipynb#W4sZmlsZQ%3D%3D?line=8'>9</a>\u001b[0m labels \u001b[39m=\u001b[39m np\u001b[39m.\u001b[39marray([categorie_mapping[c] \u001b[39mfor\u001b[39;00m c \u001b[39min\u001b[39;00m labels])\n",
      "\u001b[1;32mc:\\Users\\totol\\Mon Drive\\projet impression 3d\\dataset_collaboratif.ipynb Cellule 5\u001b[0m line \u001b[0;36m9\n\u001b[0;32m      <a href='vscode-notebook-cell:/c%3A/Users/totol/Mon%20Drive/projet%20impression%203d/dataset_collaboratif.ipynb#W4sZmlsZQ%3D%3D?line=1'>2</a>\u001b[0m categorie_mapping \u001b[39m=\u001b[39m {\n\u001b[0;32m      <a href='vscode-notebook-cell:/c%3A/Users/totol/Mon%20Drive/projet%20impression%203d/dataset_collaboratif.ipynb#W4sZmlsZQ%3D%3D?line=2'>3</a>\u001b[0m     \u001b[39m\"\u001b[39m\u001b[39mbed_not_stick\u001b[39m\u001b[39m\"\u001b[39m:\u001b[39m0\u001b[39m,\n\u001b[0;32m      <a href='vscode-notebook-cell:/c%3A/Users/totol/Mon%20Drive/projet%20impression%203d/dataset_collaboratif.ipynb#W4sZmlsZQ%3D%3D?line=3'>4</a>\u001b[0m     \u001b[39m\"\u001b[39m\u001b[39mok\u001b[39m\u001b[39m\"\u001b[39m: \u001b[39m1\u001b[39m,\n\u001b[0;32m      <a href='vscode-notebook-cell:/c%3A/Users/totol/Mon%20Drive/projet%20impression%203d/dataset_collaboratif.ipynb#W4sZmlsZQ%3D%3D?line=4'>5</a>\u001b[0m     \u001b[39m\"\u001b[39m\u001b[39mspaghetti\u001b[39m\u001b[39m\"\u001b[39m: \u001b[39m2\u001b[39m,\n\u001b[0;32m      <a href='vscode-notebook-cell:/c%3A/Users/totol/Mon%20Drive/projet%20impression%203d/dataset_collaboratif.ipynb#W4sZmlsZQ%3D%3D?line=5'>6</a>\u001b[0m }\n\u001b[0;32m      <a href='vscode-notebook-cell:/c%3A/Users/totol/Mon%20Drive/projet%20impression%203d/dataset_collaboratif.ipynb#W4sZmlsZQ%3D%3D?line=7'>8</a>\u001b[0m \u001b[39m# Utiliser NumPy pour convertir les catégories en numéros\u001b[39;00m\n\u001b[1;32m----> <a href='vscode-notebook-cell:/c%3A/Users/totol/Mon%20Drive/projet%20impression%203d/dataset_collaboratif.ipynb#W4sZmlsZQ%3D%3D?line=8'>9</a>\u001b[0m labels \u001b[39m=\u001b[39m np\u001b[39m.\u001b[39marray([categorie_mapping[c] \u001b[39mfor\u001b[39;00m c \u001b[39min\u001b[39;00m labels])\n",
      "\u001b[1;31mKeyError\u001b[0m: 'blobs'"
     ]
    }
   ],
   "source": [
    "# Définir un dictionnaire de mapping catégorie -> numéro\n",
    "categorie_mapping = {\n",
    "    \"bed_not_stick\":0,\n",
    "    \"ok\": 1,\n",
    "    \"spaghetti\": 2,\n",
    "}\n",
    "\n",
    "# Utiliser NumPy pour convertir les catégories en numéros\n",
    "labels = np.array([categorie_mapping[c] for c in labels])"
   ]
  }
 ],
 "metadata": {
  "kernelspec": {
   "display_name": "env2",
   "language": "python",
   "name": "python3"
  },
  "language_info": {
   "codemirror_mode": {
    "name": "ipython",
    "version": 3
   },
   "file_extension": ".py",
   "mimetype": "text/x-python",
   "name": "python",
   "nbconvert_exporter": "python",
   "pygments_lexer": "ipython3",
   "version": "3.10.13"
  }
 },
 "nbformat": 4,
 "nbformat_minor": 2
}
